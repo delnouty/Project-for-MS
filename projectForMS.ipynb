{
 "cells": [
  {
   "cell_type": "markdown",
   "id": "f6e747fa",
   "metadata": {},
   "source": [
    "# L’analyse des ventes dans une PME\n",
    "\n",
    "*Projet pour la préparation à la journée de sélection pour le parcours de formation Développeur en intelligence artificielle*\n",
    "\n",
    "**Darya Filatova** \n",
    "\n"
   ]
  },
  {
   "cell_type": "markdown",
   "id": "e3be7013",
   "metadata": {},
   "source": [
    "## Objectifs\n",
    "* Explorer un jeu de données et en expliquer ses caractéristiques\n",
    "* Lire des données depuis une table d’une base de données avec SQL\n",
    "* Réaliser un premier niveau d’analyses de données avec SQL\n",
    "* Rendre compte des analyses en créant des graphiques avec Python"
   ]
  },
  {
   "cell_type": "markdown",
   "id": "812a96c5",
   "metadata": {},
   "source": [
    "## L’exploration d’un jeu de données"
   ]
  },
  {
   "cell_type": "code",
   "execution_count": 1,
   "id": "2746fdc2",
   "metadata": {},
   "outputs": [],
   "source": [
    "import plotly.express as px\n",
    "import pandas as pd"
   ]
  },
  {
   "cell_type": "markdown",
   "id": "1151b307",
   "metadata": {},
   "source": [
    "### Analyse exploratoire des données\n",
    "* lire de jeu de données\n",
    "* visualiser les premières lignes de jeu de données\n",
    "* obtenir un aperçu des colonnes et des valeurs"
   ]
  },
  {
   "cell_type": "code",
   "execution_count": 2,
   "id": "f5a01384",
   "metadata": {},
   "outputs": [
    {
     "name": "stdout",
     "output_type": "stream",
     "text": [
      "         date    produit  prix  qte region\n",
      "0  2022-01-01  Produit A    10  100   Nord\n",
      "1  2022-01-02  Produit B    15   50   Nord\n",
      "2  2022-01-02  Produit A    10   75    Sud\n",
      "3  2022-01-03  Produit C    20   30   Nord\n",
      "4  2022-01-03  Produit A    10  150    Sud\n",
      "<class 'pandas.core.frame.DataFrame'>\n",
      "RangeIndex: 39 entries, 0 to 38\n",
      "Data columns (total 5 columns):\n",
      " #   Column   Non-Null Count  Dtype \n",
      "---  ------   --------------  ----- \n",
      " 0   date     39 non-null     object\n",
      " 1   produit  39 non-null     object\n",
      " 2   prix     39 non-null     int64 \n",
      " 3   qte      39 non-null     int64 \n",
      " 4   region   39 non-null     object\n",
      "dtypes: int64(2), object(3)\n",
      "memory usage: 1.7+ KB\n",
      "None\n",
      "Info prix et quantité de produit\n",
      "            prix         qte\n",
      "count  39.000000   39.000000\n",
      "mean   14.743590   86.666667\n",
      "std     4.127685   41.916793\n",
      "min    10.000000   25.000000\n",
      "25%    10.000000   55.000000\n",
      "50%    15.000000   80.000000\n",
      "75%    20.000000  110.000000\n",
      "max    20.000000  200.000000\n",
      "Info date\n",
      "date\n",
      "2022-01-01    1\n",
      "2022-01-02    2\n",
      "2022-01-03    2\n",
      "2022-01-04    2\n",
      "2022-01-05    2\n",
      "2022-01-06    2\n",
      "2022-01-07    2\n",
      "2022-01-08    2\n",
      "2022-01-09    2\n",
      "2022-01-10    2\n",
      "2022-01-11    2\n",
      "2022-01-12    2\n",
      "2022-01-13    2\n",
      "2022-01-14    2\n",
      "2022-01-15    2\n",
      "2022-01-16    2\n",
      "2022-01-17    2\n",
      "2022-01-18    2\n",
      "2022-01-19    2\n",
      "2022-01-20    2\n",
      "Name: count, dtype: int64\n",
      "Info produit\n",
      "produit\n",
      "Produit A    14\n",
      "Produit B    13\n",
      "Produit C    12\n",
      "Name: count, dtype: int64\n",
      "Info region\n",
      "region\n",
      "Nord    20\n",
      "Sud     19\n",
      "Name: count, dtype: int64\n"
     ]
    }
   ],
   "source": [
    "données = pd.read_csv('https://docs.google.com/spreadsheets/d/e/2PACX-1vSC4KusfFzvOsr8WJRgozzsCxrELW4G4PopUkiDbvrrV2lg0S19-zeryp02MC9WYSVBuzGCUtn8ucZW/pub?output=csv')\n",
    "print(données.head())\n",
    "print(données.info())\n",
    "\n",
    "print('Info prix et quantité de produit')\n",
    "print(données.describe())\n",
    "\n",
    "print('Info date')\n",
    "print(données['date'].value_counts().sort_index())\n",
    "print('Info produit')\n",
    "print(données['produit'].value_counts())\n",
    "print('Info region')\n",
    "print(données['region'].value_counts())"
   ]
  },
  {
   "cell_type": "markdown",
   "id": "ecb38f9c",
   "metadata": {},
   "source": [
    "**Cet ensemble de données contient 5 variables : ** \n",
    "* *'date'* - date, \n",
    "* *'produit'* - produit avec les valeurs 'Produit A', 'Produit B' et 'Produit C', \n",
    "* *'prix'* - prix du produit, \n",
    "* *'qte'* - quantité de produit vendu, \n",
    "* *'region'* - région où le produit a été vendu. \n",
    "\n",
    "**Les types de données peuvent poser des problèmes à l'avenir, donc 'data' doit être 'datetime', 'qte' et 'produit' doivent être 'str'. Cependant, pour l’instant, les types peuvent être conservés. Il n'y a aucune valeur manquante.**"
   ]
  },
  {
   "cell_type": "code",
   "execution_count": 3,
   "id": "44317937",
   "metadata": {},
   "outputs": [
    {
     "name": "stdout",
     "output_type": "stream",
     "text": [
      "<class 'pandas.core.frame.DataFrame'>\n",
      "RangeIndex: 39 entries, 0 to 38\n",
      "Data columns (total 5 columns):\n",
      " #   Column   Non-Null Count  Dtype         \n",
      "---  ------   --------------  -----         \n",
      " 0   date     39 non-null     datetime64[ns]\n",
      " 1   produit  39 non-null     object        \n",
      " 2   prix     39 non-null     int64         \n",
      " 3   qte      39 non-null     int64         \n",
      " 4   region   39 non-null     object        \n",
      "dtypes: datetime64[ns](1), int64(2), object(2)\n",
      "memory usage: 1.7+ KB\n"
     ]
    }
   ],
   "source": [
    "# Changement de type\n",
    "données['date'] = pd.to_datetime(données['date'])\n",
    "données['produit'] = données['produit'].astype(str)\n",
    "données.info()"
   ]
  },
  {
   "cell_type": "markdown",
   "id": "1c54adf7",
   "metadata": {},
   "source": [
    "## 2. Les requêtes SQL\n",
    "\n",
    "* le chiffre d'affaires total\n",
    "\n",
    "SELECT SUM(prix * qte) AS le_chiffre_daffaires  FROM ventes;\n",
    "\n",
    "* les ventes par produit,\n",
    "\n",
    "SELECT produit, SUM(prix * qte) AS ventes_par_produit FROM ventes GROUP BY produit; \n",
    "\n",
    "* les ventes par région.\n",
    "\n",
    "SELECT region, SUM(qte) AS ventes_par_region FROM ventes GROUP BY region;\n"
   ]
  },
  {
   "cell_type": "markdown",
   "id": "ab57094d",
   "metadata": {},
   "source": [
    "### Les pandas python peuvent faire la même chose"
   ]
  },
  {
   "cell_type": "code",
   "execution_count": 4,
   "id": "699a1216",
   "metadata": {},
   "outputs": [
    {
     "name": "stdout",
     "output_type": "stream",
     "text": [
      "le chiffre d'affaires  44825\n"
     ]
    }
   ],
   "source": [
    "#le chiffre d'affaires\n",
    "données['chiffre_affaires']=données['prix']*données['qte']\n",
    "print('le chiffre d\\'affaires ', données['chiffre_affaires'].sum() )"
   ]
  },
  {
   "cell_type": "code",
   "execution_count": 5,
   "id": "ff5165c5",
   "metadata": {},
   "outputs": [
    {
     "name": "stdout",
     "output_type": "stream",
     "text": [
      "     produit  ventes\n",
      "0  Produit A    1750\n",
      "1  Produit B    1055\n",
      "2  Produit C     575\n"
     ]
    }
   ],
   "source": [
    "#les ventes par produit\n",
    "grouped_df01 =données.groupby(\"produit\")[\"qte\"].sum()\n",
    "new_df01 = pd.DataFrame(grouped_df01).reset_index()\n",
    "new_df01.columns = [\"produit\", \"ventes\"]\n",
    "print(new_df01)"
   ]
  },
  {
   "cell_type": "code",
   "execution_count": 6,
   "id": "dae332ba",
   "metadata": {},
   "outputs": [
    {
     "name": "stdout",
     "output_type": "stream",
     "text": [
      "  region  ventes\n",
      "0   Nord    1605\n",
      "1    Sud    1775\n"
     ]
    }
   ],
   "source": [
    "#les ventes par region\n",
    "grouped_df02 =données.groupby(\"region\")[\"qte\"].sum()\n",
    "new_df02 = pd.DataFrame(grouped_df02).reset_index()\n",
    "new_df02.columns = [\"region\", \"ventes\"]\n",
    "print(new_df02)"
   ]
  },
  {
   "cell_type": "code",
   "execution_count": 7,
   "id": "3ea17fad",
   "metadata": {},
   "outputs": [
    {
     "name": "stdout",
     "output_type": "stream",
     "text": [
      "     produit  chiffre_affaires\n",
      "0  Produit A             17500\n",
      "1  Produit B             15825\n",
      "2  Produit C             11500\n"
     ]
    }
   ],
   "source": [
    "#le chiffre d'affaires par produit\n",
    "grouped_df03 =données.groupby(\"produit\")[\"chiffre_affaires\"].sum()\n",
    "new_df03 = pd.DataFrame(grouped_df03).reset_index()\n",
    "new_df03.columns = [\"produit\", \"chiffre_affaires\"]\n",
    "print(new_df03)"
   ]
  },
  {
   "cell_type": "markdown",
   "id": "7b711341",
   "metadata": {},
   "source": [
    "## 3. Visualisation de données"
   ]
  },
  {
   "cell_type": "code",
   "execution_count": 8,
   "id": "3009c407",
   "metadata": {
    "scrolled": true
   },
   "outputs": [
    {
     "name": "stdout",
     "output_type": "stream",
     "text": [
      "ventes-par-région.html généré avec succès !\n",
      "ventes-par-produit.html généré avec succès !\n",
      "chiffre-daffaires-par-produit.html généré avec succès !\n"
     ]
    }
   ],
   "source": [
    "#les ventes par region\n",
    "figure = px.pie(données, values='qte', names='region', title='quantité vendue par région')\n",
    "figure.write_html('ventes-par-region.html')\n",
    "print('ventes-par-région.html généré avec succès !')\n",
    "\n",
    "#les ventes par produit\n",
    "figure = px.pie(données, values='qte', names='produit', title='quantité vendue par produit')\n",
    "figure.write_html('ventes-par-produit.html')\n",
    "print('ventes-par-produit.html généré avec succès !')\n",
    "\n",
    "#le chiffre d'affaires par produit\n",
    "figure = px.pie(données, values='chiffre_affaires', names='produit', title='chiffre d\\'affaires par produit')\n",
    "figure.write_html('chiffre-affaires-par-produit.html')\n",
    "print('chiffre-daffaires-par-produit.html généré avec succès !')"
   ]
  },
  {
   "cell_type": "markdown",
   "id": "5b96a884",
   "metadata": {},
   "source": [
    "## 4. Le lien vers projet Glitch -\"produit-region\"- complété\n",
    "\n",
    "projet Glitch - https://glitch.com/edit/#!/produit-region?path=README.md%3A1%3A0\n",
    "\n",
    "Dans \"Assets\", vous pouvez également trouver le fichier SQL - projectMS.sql\n",
    "\n",
    "GitHub repository  - https://github.com/delnouty/Project-for-MS\n",
    "\n"
   ]
  }
 ],
 "metadata": {
  "kernelspec": {
   "display_name": "Python 3 (ipykernel)",
   "language": "python",
   "name": "python3"
  },
  "language_info": {
   "codemirror_mode": {
    "name": "ipython",
    "version": 3
   },
   "file_extension": ".py",
   "mimetype": "text/x-python",
   "name": "python",
   "nbconvert_exporter": "python",
   "pygments_lexer": "ipython3",
   "version": "3.11.5"
  }
 },
 "nbformat": 4,
 "nbformat_minor": 5
}
